{
 "cells": [
  {
   "metadata": {},
   "cell_type": "markdown",
   "source": [
    "# Computing Conditional Probability $P(a \\mid b)$\n",
    "\n",
    "We consider the task of computing $P(a \\mid b)$, where $a$ can be a vector of features and $b$ can be a vector of features.\n",
    "\n",
    "In a probabilistic view, this can be computed using:\n",
    "\n",
    "$$\n",
    "P(a \\mid b) = \\frac{P(a, b)}{P(b)}\n",
    "$$\n",
    "\n",
    "In Python, we can exploit the concepts of covariance to compute the conditional distribution of $a$ given $b$. Assuming that both $a$ and $b$ are jointly Gaussian-distributed (just for this example), the conditional distribution $P(a \\mid b)$ is also Gaussian and can be computed using the conditional mean and covariance.\n",
    "\n",
    "Given the joint mean vector and covariance matrix:\n",
    "-  $\\mu_1$ and $\\Sigma_{11}$ are the mean and covariance of $a$,\n",
    "-  $\\mu_2$ and $\\Sigma_{22}$ are the mean and covariance of $b$,\n",
    "-  $\\Sigma_{12}$ is the cross-covariance between $a$ and $b$,\n",
    "\n",
    "The conditional distribution of $a$ given $b$ is Gaussian, with the following parameters:\n",
    "\n",
    "### Conditional Mean:\n",
    "\n",
    "$$\n",
    "\\mu_{a \\mid b} = \\mu_1 + \\Sigma_{12} \\Sigma_{22}^{-1} (b - \\mu_2)\n",
    "$$\n",
    "\n",
    "### Conditional Covariance:\n",
    "\n",
    "$$\n",
    "\\Sigma_{a \\mid b} = \\Sigma_{11} - \\Sigma_{12} \\Sigma_{22}^{-1} \\Sigma_{12}^T\n",
    "$$\n",
    "\n",
    "This approach allows us to compute the conditional distribution $P(a \\mid b)$ for multiple features, leveraging the covariance structure of the data.\n",
    "\n",
    "Here’s a Python implementation of how this can be computed using NumPy:"
   ],
   "id": "48aad043f01e5a4f"
  },
  {
   "cell_type": "code",
   "id": "initial_id",
   "metadata": {
    "collapsed": true,
    "ExecuteTime": {
     "end_time": "2024-10-24T12:08:11.108946Z",
     "start_time": "2024-10-24T12:08:11.084945Z"
    }
   },
   "source": [
    "import numpy as np\n",
    "\n",
    "n_features = 10  # Total number of features in the dataset (for both a and b)\n",
    "n_samples = 1000  # Total number of samples\n",
    "\n",
    "# Define which indexes belong to a and b\n",
    "a_indexes = np.array([0, 1, 2])  # Features for a (3 features)\n",
    "b_indexes = np.array([3, 4, 5, 6])  # Features for b (4 features)\n",
    "\n",
    "# Generate random data (n_features x n_samples)\n",
    "data = np.random.rand(n_features, n_samples)\n",
    "\n",
    "# Compute mean and covariance\n",
    "mean = np.mean(data, axis=1)  # Mean across samples (axis=1 to get mean per feature)\n",
    "\n",
    "cov = np.cov(data)  # Covariance matrix (n_features x n_features)\n",
    "\n",
    "# Partition mean and covariance into a and b\n",
    "mu_a = mean[a_indexes]  # Mean of a (3 features)\n",
    "mu_b = mean[b_indexes]  # Mean of b (4 features)\n",
    "\n",
    "Sigma_aa = cov[np.ix_(a_indexes, a_indexes)]  # Covariance of a (3x3 matrix)\n",
    "Sigma_bb = cov[np.ix_(b_indexes, b_indexes)]  # Covariance of b (4x4 matrix)\n",
    "Sigma_ab = cov[np.ix_(a_indexes, b_indexes)]  # Cross-covariance of a and b (3x4 matrix)\n",
    "\n",
    "# Values of b (these should be the observed values of b)\n",
    "b_values = np.array([1.0, 1.0, 1.0, 1.0])  # Example values for b (4 features)\n",
    "\n",
    "# Compute conditional mean of a given b\n",
    "mu_a_given_b = mu_a + Sigma_ab @ np.linalg.inv(Sigma_bb) @ (b_values - mu_b)\n",
    "\n",
    "# Compute conditional covariance of a given b\n",
    "Sigma_a_given_b = Sigma_aa - Sigma_ab @ np.linalg.inv(Sigma_bb) @ Sigma_ab.T\n",
    "\n",
    "print(f\"Conditional mean of a given b shape: {mu_a_given_b.shape}\")\n",
    "print(f\"Conditional mean of a given b: {mu_a_given_b}\")\n",
    "\n",
    "print(f\"Conditional covariance of a given b shape: {Sigma_a_given_b.shape}\")\n",
    "print(f\"Conditional covariance of a given b: {Sigma_a_given_b}\")\n"
   ],
   "outputs": [
    {
     "name": "stdout",
     "output_type": "stream",
     "text": [
      "Conditional mean of a given b shape: (3,)\n",
      "Conditional mean of a given b: [0.42317393 0.52931148 0.47197586]\n",
      "Conditional covariance of a given b shape: (3, 3)\n",
      "Conditional covariance of a given b: [[ 0.08372542 -0.00357772 -0.00916852]\n",
      " [-0.00357772  0.08034498  0.00857042]\n",
      " [-0.00916852  0.00857042  0.080072  ]]\n"
     ]
    }
   ],
   "execution_count": 11
  }
 ],
 "metadata": {
  "kernelspec": {
   "display_name": "Python 3",
   "language": "python",
   "name": "python3"
  },
  "language_info": {
   "codemirror_mode": {
    "name": "ipython",
    "version": 2
   },
   "file_extension": ".py",
   "mimetype": "text/x-python",
   "name": "python",
   "nbconvert_exporter": "python",
   "pygments_lexer": "ipython2",
   "version": "2.7.6"
  }
 },
 "nbformat": 4,
 "nbformat_minor": 5
}
