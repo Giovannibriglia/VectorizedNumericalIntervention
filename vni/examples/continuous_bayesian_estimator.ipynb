{
 "cells": [
  {
   "cell_type": "code",
   "execution_count": null,
   "id": "initial_id",
   "metadata": {
    "collapsed": true
   },
   "outputs": [],
   "source": [
    ""
   ]
  },
  {
   "metadata": {
    "ExecuteTime": {
     "end_time": "2024-10-25T09:07:19.940210Z",
     "start_time": "2024-10-25T09:07:19.925900Z"
    }
   },
   "cell_type": "code",
   "source": [
    "import torch\n",
    "\n",
    "class ContinuousBayesianEstimator:\n",
    "    def __init__(self, prior_mean=0.0, prior_var=1.0, prior_dof=1.0, prior_scale=1.0):\n",
    "        \"\"\"\n",
    "        Initializes the Bayesian estimator with Normal-Inverse-Gamma priors.\n",
    "        \n",
    "        Args:\n",
    "            prior_mean (float): Prior mean of the Gaussian.\n",
    "            prior_var (float): Prior variance.\n",
    "            prior_dof (float): Degrees of freedom for the Inverse-Gamma prior on variance.\n",
    "            prior_scale (float): Scale parameter for the Inverse-Gamma prior on variance.\n",
    "        \"\"\"\n",
    "        # Initialize priors\n",
    "        self.prior_mean = prior_mean\n",
    "        self.prior_var = prior_var\n",
    "        self.prior_dof = prior_dof\n",
    "        self.prior_scale = prior_scale\n",
    "\n",
    "        # Initialize posterior parameters as priors\n",
    "        self.posterior_mean = prior_mean\n",
    "        self.posterior_var = prior_var\n",
    "        self.posterior_dof = prior_dof\n",
    "        self.posterior_scale = prior_scale\n",
    "\n",
    "    def update_posterior(self, data):\n",
    "        \"\"\"\n",
    "        Update the posterior distribution parameters based on observed data.\n",
    "        \n",
    "        Args:\n",
    "            data (Tensor): Observed data (continuous values).\n",
    "        \"\"\"\n",
    "        n = data.shape[0]  # Number of data points\n",
    "        sample_mean = data.mean()\n",
    "        sample_var = data.var(unbiased=False)\n",
    "\n",
    "        # Update posterior parameters\n",
    "        self.posterior_dof += n\n",
    "        self.posterior_mean = (self.prior_var * sample_mean + n * self.prior_mean) / (self.prior_var + n)\n",
    "        self.posterior_var = (\n",
    "            self.prior_scale\n",
    "            + 0.5 * n * sample_var\n",
    "            + (n * self.prior_var * (sample_mean - self.prior_mean) ** 2) / (2 * (self.prior_var + n))\n",
    "        )\n",
    "        self.posterior_scale = self.posterior_var / self.posterior_dof\n",
    "\n",
    "    def sample_posterior(self, n_samples=1):\n",
    "        \"\"\"\n",
    "        Sample from the posterior distribution of the mean using Student's t-distribution.\n",
    "        \n",
    "        Args:\n",
    "            n_samples (int): Number of samples to generate.\n",
    "        \n",
    "        Returns:\n",
    "            Tensor: Samples from the posterior distribution of the mean.\n",
    "        \"\"\"\n",
    "        posterior_var = self.posterior_scale / self.posterior_dof\n",
    "        posterior_std = torch.sqrt(posterior_var)\n",
    "        \n",
    "        # Sample from Student's t-distribution\n",
    "        student_t_dist = torch.distributions.StudentT(self.posterior_dof, self.posterior_mean, posterior_std)\n",
    "        return student_t_dist.sample((n_samples,))\n",
    "\n",
    "    def compute_cpds(self, data, given_values):\n",
    "        \"\"\"\n",
    "        Compute conditional probabilities for continuous values.\n",
    "        \n",
    "        Args:\n",
    "            data (Tensor): Observed data (continuous values).\n",
    "            given_values (Tensor): Values to condition on.\n",
    "        \n",
    "        Returns:\n",
    "            Tensor: Conditional probability densities.\n",
    "        \"\"\"\n",
    "        epsilon = 1e-6  # Small value to prevent division by zero or negative variances\n",
    "        \n",
    "        # Calculate joint statistics\n",
    "        joint_data = torch.cat((data, given_values))\n",
    "        joint_mean = joint_data.mean()\n",
    "        joint_var = joint_data.var(unbiased=False)\n",
    "        \n",
    "        # Set conditional mean and variance estimates\n",
    "        cond_mean = joint_mean\n",
    "        cond_var = joint_var + epsilon  # Add epsilon for stability\n",
    "        \n",
    "        # Calculate Gaussian densities for conditional values\n",
    "        cpds = torch.exp(-0.5 * ((given_values - cond_mean) ** 2) / cond_var) / torch.sqrt(2 * torch.pi * cond_var)\n",
    "        return cpds\n",
    "\n",
    "\n",
    "# Example usage\n",
    "# Initialize estimator\n",
    "estimator = ContinuousBayesianEstimator(prior_mean=0.5, prior_var=1.0, prior_dof=2.0, prior_scale=1.0)\n",
    "\n",
    "# Update with observed data\n",
    "observed_data = torch.tensor([2.0, 2.5, 3.0, 2.8])  # Example observed continuous data\n",
    "estimator.update_posterior(observed_data)\n",
    "\n",
    "# Sample from the posterior distribution\n",
    "posterior_samples = estimator.sample_posterior(n_samples=5)\n",
    "print(\"Posterior samples of the mean:\", posterior_samples)\n",
    "\n",
    "# Compute conditional probabilities for continuous given values\n",
    "given_values = torch.tensor([2.5, 3.0, 3.5])  # Example given values\n",
    "cpds = estimator.compute_cpds(observed_data, given_values)\n",
    "print(\"Conditional Probability Densities (CPDs):\", cpds)\n"
   ],
   "id": "fc4903db05d59e56",
   "outputs": [
    {
     "name": "stdout",
     "output_type": "stream",
     "text": [
      "Posterior samples of the mean: tensor([0.8179, 0.9911, 1.2523, 0.6728, 0.6119])\n",
      "Conditional Probability Densities (CPDs): tensor([0.7603, 0.7742, 0.2212])\n"
     ]
    }
   ],
   "execution_count": 14
  }
 ],
 "metadata": {
  "kernelspec": {
   "display_name": "Python 3",
   "language": "python",
   "name": "python3"
  },
  "language_info": {
   "codemirror_mode": {
    "name": "ipython",
    "version": 2
   },
   "file_extension": ".py",
   "mimetype": "text/x-python",
   "name": "python",
   "nbconvert_exporter": "python",
   "pygments_lexer": "ipython2",
   "version": "2.7.6"
  }
 },
 "nbformat": 4,
 "nbformat_minor": 5
}
